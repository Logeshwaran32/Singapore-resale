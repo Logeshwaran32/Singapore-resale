{
  "nbformat": 4,
  "nbformat_minor": 0,
  "metadata": {
    "colab": {
      "provenance": [],
      "authorship_tag": "ABX9TyPj0ZU/HaR4H/f7zpxuODsZ",
      "include_colab_link": true
    },
    "kernelspec": {
      "name": "python3",
      "display_name": "Python 3"
    },
    "language_info": {
      "name": "python"
    }
  },
  "cells": [
    {
      "cell_type": "markdown",
      "metadata": {
        "id": "view-in-github",
        "colab_type": "text"
      },
      "source": [
        "<a href=\"https://colab.research.google.com/github/Logeshwaran32/Singapore-resale/blob/main/Singapore.ipynb\" target=\"_parent\"><img src=\"https://colab.research.google.com/assets/colab-badge.svg\" alt=\"Open In Colab\"/></a>"
      ]
    },
    {
      "cell_type": "code",
      "execution_count": null,
      "metadata": {
        "id": "zfvuT2fpYXtE"
      },
      "outputs": [],
      "source": [
        "!pip install numpy\n",
        "!pip install pandas\n",
        "!pip install matplotlib\n",
        "!pip install scikit-learn\n",
        "!pip install streamlit"
      ]
    },
    {
      "cell_type": "code",
      "source": [
        "import numpy as np\n",
        "import matplotlib.pyplot as plt\n",
        "import pandas as pd"
      ],
      "metadata": {
        "id": "FX5RJzaXYlH0"
      },
      "execution_count": null,
      "outputs": []
    },
    {
      "cell_type": "code",
      "source": [
        "csv_file_path = 'ResaleFlatPrice.csv'\n",
        "df = pd.read_csv(csv_file_path)\n",
        "df"
      ],
      "metadata": {
        "id": "CAd_0DO1YsQl"
      },
      "execution_count": null,
      "outputs": []
    },
    {
      "cell_type": "code",
      "source": [
        "df.info()"
      ],
      "metadata": {
        "id": "P09_hcQaYwhy"
      },
      "execution_count": null,
      "outputs": []
    },
    {
      "cell_type": "code",
      "source": [
        "flatmodel_stats = df.groupby('flat_model').agg({'flat_model': 'count', 'resale_price': ['sum', 'mean']})\n",
        "\n",
        "# Rename the columns for clarity\n",
        "flatmodel_stats.columns = ['Count', 'Sum of Resale Price', 'Average Resale Price']\n",
        "\n",
        "# Calculate Average Rent\n",
        "flatmodel_stats['Average Resale Price'] = flatmodel_stats['Sum of Resale Price'] / flatmodel_stats['Count']\n",
        "\n",
        "print(\"Flat Model Statistics\")\n",
        "print(flatmodel_stats)"
      ],
      "metadata": {
        "id": "ct5LnYqMY-3O"
      },
      "execution_count": null,
      "outputs": []
    },
    {
      "cell_type": "code",
      "source": [
        "plt.figure(figsize=(10, 6))\n",
        "flatmodel_stats['Average Resale Price'].plot(kind='bar')\n",
        "plt.title('Average Resale Price by Flat Model')\n",
        "plt.xlabel('Flat Model')\n",
        "plt.ylabel('Average Resale Price')\n",
        "plt.xticks(rotation=45)\n",
        "plt.show()"
      ],
      "metadata": {
        "id": "BALSYZzSZCfL"
      },
      "execution_count": null,
      "outputs": []
    },
    {
      "cell_type": "code",
      "source": [
        "storeyrange_stats = df.groupby('storey_range').agg({'storey_range': 'count', 'resale_price': ['sum', 'mean']})\n",
        "\n",
        "# Rename the columns for clarity\n",
        "storeyrange_stats.columns = ['Count', 'Sum of Resale Price', 'Average Resale Price']\n",
        "\n",
        "# Calculate Average Rent\n",
        "storeyrange_stats['Average Resale Price'] = storeyrange_stats['Sum of Resale Price'] / storeyrange_stats['Count']\n",
        "\n",
        "print(\"Storey Range Statistics\")\n",
        "print(storeyrange_stats)"
      ],
      "metadata": {
        "id": "n5D-imbZZRKQ"
      },
      "execution_count": null,
      "outputs": []
    },
    {
      "cell_type": "code",
      "source": [
        "storeyrange_stats['Average Resale Price'].plot(kind='bar')\n",
        "plt.title('Average Resale Price by Storey Range')\n",
        "plt.xlabel('Storey Range')\n",
        "plt.ylabel('Average Resale Price')\n",
        "plt.xticks(rotation=45)\n",
        "plt.show()"
      ],
      "metadata": {
        "id": "mb6PapO3ZUPZ"
      },
      "execution_count": null,
      "outputs": []
    },
    {
      "cell_type": "code",
      "source": [
        "flattype_stats = df.groupby('flat_type').agg({'flat_type': 'count', 'resale_price': ['sum', 'mean']})\n",
        "\n",
        "# Rename the columns for clarity\n",
        "flattype_stats.columns = ['Count', 'Sum of Resale Price', 'Average Resale Price']\n",
        "\n",
        "# Calculate Average Rent\n",
        "flattype_stats['Average Resale Price'] = flattype_stats['Sum of Resale Price'] / flattype_stats['Count']\n",
        "\n",
        "print(\"Flat Type Statistics\")\n",
        "print(flattype_stats)"
      ],
      "metadata": {
        "id": "YpmmfgpAZWte"
      },
      "execution_count": null,
      "outputs": []
    },
    {
      "cell_type": "code",
      "source": [
        "# Increase figure size\n",
        "plt.figure(figsize=(10, 6))  # Adjust the width and height as needed\n",
        "\n",
        "# Create bar graph\n",
        "flattype_stats['Average Resale Price'].plot(kind='bar')\n",
        "plt.title('Average Resale Price by Flat Type')\n",
        "plt.xlabel('Flat Type')\n",
        "plt.ylabel('Average Resale Price')\n",
        "plt.xticks(rotation=45)\n",
        "plt.show()"
      ],
      "metadata": {
        "id": "8ZrmexxIZaPh"
      },
      "execution_count": null,
      "outputs": []
    },
    {
      "cell_type": "code",
      "source": [
        "correlation_matrix = df[['lease_commence_date','floor_area_sqm','resale_price']].corr()\n",
        "\n",
        "# Print the correlation matrix\n",
        "print(\"Correlation Matrix:\")\n",
        "print(correlation_matrix)"
      ],
      "metadata": {
        "id": "zllci4btafto"
      },
      "execution_count": null,
      "outputs": []
    },
    {
      "cell_type": "code",
      "source": [
        "import matplotlib.pyplot as plt\n",
        "\n",
        "# Create scatter plot\n",
        "plt.figure(figsize=(8, 6))\n",
        "plt.scatter(df['lease_commence_date'], df['resale_price'], color='blue', alpha=0.5)\n",
        "plt.title('Scatter Plot of Resale Price vs Lease Coemmence Date')\n",
        "plt.xlabel('Lease Commence Date')\n",
        "plt.ylabel('Resale Price')\n",
        "plt.grid(True)\n",
        "plt.show()"
      ],
      "metadata": {
        "id": "H9ZfVhKhaimi"
      },
      "execution_count": null,
      "outputs": []
    },
    {
      "cell_type": "code",
      "source": [
        "# Create scatter plot\n",
        "\n",
        "plt.figure(figsize=(8, 6))\n",
        "plt.scatter(df['floor_area_sqm'], df['resale_price'], color='blue', alpha=0.5)\n",
        "plt.title('Scatter Plot of Resale Price vs Floor Area Sqm')\n",
        "plt.xlabel('Floor Area Sqm')\n",
        "plt.ylabel('Resale Price')\n",
        "plt.grid(True)\n",
        "plt.show()"
      ],
      "metadata": {
        "id": "UaRkUw0daoYm"
      },
      "execution_count": null,
      "outputs": []
    },
    {
      "cell_type": "code",
      "source": [
        "# ML Regression Model\n",
        "from sklearn.ensemble import RandomForestRegressor\n",
        "from sklearn.model_selection import train_test_split\n",
        "from sklearn.metrics import mean_squared_error, r2_score, mean_absolute_error"
      ],
      "metadata": {
        "id": "36hrcB1matD0"
      },
      "execution_count": null,
      "outputs": []
    },
    {
      "cell_type": "code",
      "source": [
        "X1 = df[['lease_commence_date','floor_area_sqm']]\n",
        "y1 = df['resale_price']"
      ],
      "metadata": {
        "id": "GRaHMWRfazdM"
      },
      "execution_count": null,
      "outputs": []
    },
    {
      "cell_type": "code",
      "source": [
        "X_train, X_test, y_train, y_test = train_test_split(X1, y1, test_size=0.2, random_state=42)"
      ],
      "metadata": {
        "id": "9BRX8aiha2CD"
      },
      "execution_count": null,
      "outputs": []
    },
    {
      "cell_type": "code",
      "source": [
        "y_pred = rf_model.predict(X_test)"
      ],
      "metadata": {
        "id": "E0_e1SxhbGyL"
      },
      "execution_count": null,
      "outputs": []
    },
    {
      "cell_type": "code",
      "source": [
        "# Evaluate the model\n",
        "mse = mean_squared_error(y_test, y_pred)\n",
        "r2 = r2_score(y_test, y_pred)\n",
        "\n",
        "\n",
        "print(f'Mean Squared Error: {mse}')\n",
        "print(f'R-squared: {r2}')"
      ],
      "metadata": {
        "id": "02SHmakzbJj4"
      },
      "execution_count": null,
      "outputs": []
    },
    {
      "cell_type": "code",
      "source": [
        "feature_importances = rf_model.feature_importances_\n",
        "\n",
        "for feature, importance in zip(X1.columns, feature_importances):\n",
        "    print(f\"{feature}: {importance}\")"
      ],
      "metadata": {
        "id": "psu3wGohbL9c"
      },
      "execution_count": null,
      "outputs": []
    },
    {
      "cell_type": "code",
      "source": [
        "from sklearn.model_selection import train_test_split\n",
        "from sklearn.tree import DecisionTreeRegressor\n",
        "from sklearn.metrics import mean_squared_error\n",
        "\n",
        "X2 = df[['lease_commence_date','floor_area_sqm']]\n",
        "y2 = df['resale_price']\n",
        "\n",
        "# Split the data into training and testing sets\n",
        "X_train, X_test, y_train, y_test = train_test_split(X2, y2, test_size=0.2, random_state=42)\n",
        "\n",
        "# Create and train the decision tree regression model\n",
        "model = DecisionTreeRegressor(max_depth=5)\n",
        "model.fit(X_train, y_train)\n",
        "\n",
        "# Make predictions on the test set\n",
        "y_pred = model.predict(X_test)\n",
        "\n",
        "# Evaluate the model\n",
        "mse = mean_squared_error(y_test, y_pred)\n",
        "print(\"Mean Squared Error:\", mse)\n",
        "r2 = r2_score(y_test, y_pred)\n",
        "print(f'R-squared: {r2}')"
      ],
      "metadata": {
        "id": "AL2ch_TZbPZ_"
      },
      "execution_count": null,
      "outputs": []
    },
    {
      "cell_type": "code",
      "source": [
        "from sklearn.model_selection import train_test_split\n",
        "from sklearn.ensemble import GradientBoostingRegressor\n",
        "from sklearn.metrics import mean_squared_error\n",
        "\n",
        "X3 = df[['lease_commence_date','floor_area_sqm']]\n",
        "y3 = df['resale_price']\n",
        "\n",
        "# Split the data into training and testing sets\n",
        "X_train, X_test, y_train, y_test = train_test_split(X3, y3, test_size=0.2, random_state=42)\n",
        "\n",
        "# Create and train the Gradient Boosted Regression Trees (GBRT) model\n",
        "model = GradientBoostingRegressor(n_estimators=100, learning_rate=0.1, max_depth=5, random_state=42)\n",
        "model.fit(X_train, y_train)\n",
        "\n",
        "# Make predictions on the test set\n",
        "y_pred = model.predict(X_test)\n",
        "\n",
        "# Evaluate the model\n",
        "mse = mean_squared_error(y_test, y_pred)\n",
        "print(\"Mean Squared Error:\", mse)\n",
        "r2 = r2_score(y_test, y_pred)\n",
        "print(f'R-squared: {r2}')"
      ],
      "metadata": {
        "id": "ZIfLViUobVVt"
      },
      "execution_count": null,
      "outputs": []
    },
    {
      "cell_type": "code",
      "source": [
        "import pickle\n",
        "import streamlit as st"
      ],
      "metadata": {
        "id": "po5yAKFMbYvr"
      },
      "execution_count": null,
      "outputs": []
    },
    {
      "cell_type": "code",
      "source": [
        "with open('rf_model', 'wb') as file:\n",
        "    pickle.dump(rf_model, file)"
      ],
      "metadata": {
        "id": "gbsKkIBQbdh7"
      },
      "execution_count": null,
      "outputs": []
    },
    {
      "cell_type": "code",
      "source": [
        "# Load the pickled Random Forest model\n",
        "with open('rf_model', 'rb') as file:\n",
        "    loaded_rf_model = pickle.load(file)"
      ],
      "metadata": {
        "id": "4SddxSajbfqH"
      },
      "execution_count": null,
      "outputs": []
    },
    {
      "cell_type": "code",
      "source": [
        "predictions = loaded_rf_model.predict(X_test)  # for any X-Test the predictions can be derived with the random forest clasifier model"
      ],
      "metadata": {
        "id": "JTiCHejObl_V"
      },
      "execution_count": null,
      "outputs": []
    },
    {
      "cell_type": "code",
      "source": [
        "predictions"
      ],
      "metadata": {
        "id": "wX1Tj-vWboW5"
      },
      "execution_count": null,
      "outputs": []
    },
    {
      "cell_type": "markdown",
      "source": [
        "Streamlit"
      ],
      "metadata": {
        "id": "sOLShNGYb131"
      }
    },
    {
      "cell_type": "code",
      "source": [
        "import streamlit as st\n",
        "\n",
        "import pickle\n",
        "from sklearn.ensemble import RandomForestRegressor\n",
        "from sklearn.model_selection import train_test_split\n",
        "from sklearn.metrics import mean_squared_error, r2_score, mean_absolute_error\n",
        "\n",
        "# Create a simple Streamlit UI\n",
        "st.title('Random Forest Regression App')\n",
        "\n",
        "# Load the trained machine learning model\n",
        "with open('rf_model', 'rb') as f:\n",
        "    model = pickle.load(f)\n",
        "\n",
        "# Function to predict resale price based on user inputs\n",
        "def predict_resale_price(lease_commence_date,floor_area_sqm):\n",
        "    # Preprocess user inputs if necessary\n",
        "    # For simplicity, let's assume the inputs are already preprocessed\n",
        "    # Concatenate the user inputs into a feature vector\n",
        "    features = [lease_commence_date,floor_area_sqm]\n",
        "    # Reshape the feature vector for prediction\n",
        "    features = [features]  # Convert to 2D array\n",
        "    # Use the trained model to make predictions\n",
        "    predicted_price = model.predict(features)\n",
        "    return predicted_price\n",
        "\n",
        "# Streamlit web application\n",
        "def main():\n",
        "    # Set title and description\n",
        "    st.title('Singapore HDB Resale Price Prediction')\n",
        "    st.write('This app predicts the resale price of HDB flats in Singapore based on user inputs.')\n",
        "\n",
        "    # Input form for user details\n",
        "    st.sidebar.header('Input Details')\n",
        "    floor_area_sqm = st.sidebar.number_input('Floor Area (sqm)', min_value=1, max_value=300, value=50)\n",
        "    lease_commence_date = st.sidebar.number_input('lease_commence_date', min_value=1966, max_value=2012, value=2000)\n",
        "\n",
        "    # Predict button\n",
        "    if st.sidebar.button('Predict'):\n",
        "        # Call predict_resale_price function with user inputs\n",
        "        predicted_price = predict_resale_price(lease_commence_date,floor_area_sqm)\n",
        "        # Display prediction\n",
        "        st.subheader('Predicted Resale Price')\n",
        "        st.write('Estimated Price: $', round(predicted_price[0], 2))\n",
        "\n",
        "if __name__ == '__main__':\n",
        "    main()"
      ],
      "metadata": {
        "id": "GnR5z8MTb3gs"
      },
      "execution_count": null,
      "outputs": []
    }
  ]
}